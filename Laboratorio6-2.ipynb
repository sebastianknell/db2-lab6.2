{
 "metadata": {
  "language_info": {
   "codemirror_mode": {
    "name": "ipython",
    "version": 3
   },
   "file_extension": ".py",
   "mimetype": "text/x-python",
   "name": "python",
   "nbconvert_exporter": "python",
   "pygments_lexer": "ipython3",
   "version": "3.8.5"
  },
  "orig_nbformat": 2,
  "kernelspec": {
   "name": "python385jvsc74a57bd0919eb0904b72c37e8d6c7e3b2f7b6f162c89cafcc297fba09b2d10c79c52f5eb",
   "display_name": "Python 3.8.5 64-bit ('base': conda)"
  }
 },
 "nbformat": 4,
 "nbformat_minor": 2,
 "cells": [
  {
   "source": [
    "# Laboratorio 6.2"
   ],
   "cell_type": "markdown",
   "metadata": {}
  },
  {
   "cell_type": "code",
   "execution_count": 33,
   "metadata": {},
   "outputs": [],
   "source": [
    "import nltk\n",
    "#nltk.download('punkt')\n",
    "from nltk.corpus import stopwords\n",
    "#from nlkt.corpus.reader import lin\n",
    "from nltk.stem import SnowballStemmer\n",
    "from nltk.util import pr"
   ]
  },
  {
   "source": [
    "## Initialize"
   ],
   "cell_type": "markdown",
   "metadata": {}
  },
  {
   "cell_type": "code",
   "execution_count": 34,
   "metadata": {},
   "outputs": [],
   "source": [
    "stoplist = stopwords.words('spanish')\n",
    "stoplist += ['.','?','-','«', '»', ',', '(', ')', ':', ';'] # No quita todas las comas\n",
    "stemmer = SnowballStemmer('spanish')\n",
    "index = {}"
   ]
  },
  {
   "source": [
    "### Read files, Tokenize, Stem and Add to index"
   ],
   "cell_type": "markdown",
   "metadata": {}
  },
  {
   "cell_type": "code",
   "execution_count": 35,
   "metadata": {},
   "outputs": [],
   "source": [
    "for i in range (1,7):\n",
    "    with open(\"docs/libro{}.txt\".format(i)) as file:\n",
    "        text = \"\"\n",
    "        lines = file.readlines()\n",
    "        for line in lines:\n",
    "            text += line.lower().strip()\n",
    "\n",
    "        # Tokenize\n",
    "        words = nltk.word_tokenize(text)\n",
    "\n",
    "        # Filter\n",
    "        for token in words:\n",
    "            if token in stoplist:\n",
    "                words.remove(token)\n",
    "        \n",
    "        # Stem\n",
    "        for j in range (len(words)):\n",
    "            words[j] = stemmer.stem(words[j])\n",
    "        \n",
    "        # Add to index\n",
    "        for token in words:\n",
    "            if token in index.keys():\n",
    "                index[token].add(i)\n",
    "            else:\n",
    "                index[token] = set([i])"
   ]
  },
  {
   "source": [
    "## ...\n",
    "Get the 500 most frequent terms\n",
    "\n",
    "Sort by document frequency"
   ],
   "cell_type": "markdown",
   "metadata": {}
  },
  {
   "cell_type": "code",
   "execution_count": 36,
   "metadata": {},
   "outputs": [],
   "source": [
    "sortedIndex = {key : val for key, val in sorted(index.items(), key = lambda elem : len(elem[1]), reverse=True)}\n",
    "mostFrequent = {}\n",
    "count = 0\n",
    "\n",
    "for key, val in sortedIndex.items():\n",
    "    mostFrequent[key] = val\n",
    "    count += 1\n",
    "    if (count == 500):\n",
    "        break"
   ]
  },
  {
   "source": [
    "### Sort by key"
   ],
   "cell_type": "markdown",
   "metadata": {}
  },
  {
   "cell_type": "code",
   "execution_count": 37,
   "metadata": {},
   "outputs": [],
   "source": [
    "invertedIndex = {key: val for key, val in sorted(mostFrequent.items(), key = lambda elem: elem[0])}"
   ]
  },
  {
   "source": [
    "### Write to file"
   ],
   "cell_type": "markdown",
   "metadata": {}
  },
  {
   "cell_type": "code",
   "execution_count": 38,
   "metadata": {},
   "outputs": [],
   "source": [
    "with open(\"invertedIndex.txt\", 'w') as file:\n",
    "    for key, value in invertedIndex.items():\n",
    "        line = key\n",
    "        line += ':'\n",
    "        for i in value:\n",
    "            line += str(i)\n",
    "            line += ','\n",
    "        line = line[0:len(line)-1] # Trim last ,\n",
    "        line += '\\n'\n",
    "        file.writelines(line)"
   ]
  },
  {
   "cell_type": "code",
   "execution_count": null,
   "metadata": {},
   "outputs": [],
   "source": []
  }
 ]
}