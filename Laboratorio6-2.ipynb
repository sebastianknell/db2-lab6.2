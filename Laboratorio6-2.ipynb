{
 "metadata": {
  "language_info": {
   "codemirror_mode": {
    "name": "ipython",
    "version": 3
   },
   "file_extension": ".py",
   "mimetype": "text/x-python",
   "name": "python",
   "nbconvert_exporter": "python",
   "pygments_lexer": "ipython3",
   "version": "3.8.5"
  },
  "orig_nbformat": 2,
  "kernelspec": {
   "name": "python385jvsc74a57bd0919eb0904b72c37e8d6c7e3b2f7b6f162c89cafcc297fba09b2d10c79c52f5eb",
   "display_name": "Python 3.8.5 64-bit ('base': conda)"
  }
 },
 "nbformat": 4,
 "nbformat_minor": 2,
 "cells": [
  {
   "source": [
    "# Laboratorio 6.2"
   ],
   "cell_type": "markdown",
   "metadata": {}
  },
  {
   "cell_type": "code",
   "execution_count": 48,
   "metadata": {},
   "outputs": [],
   "source": [
    "import nltk\n",
    "#nltk.download('punkt')\n",
    "from nltk.corpus import stopwords\n",
    "#from nlkt.corpus.reader import lin\n",
    "from nltk.stem import SnowballStemmer\n",
    "from nltk.util import pr"
   ]
  },
  {
   "source": [
    "## Initialize"
   ],
   "cell_type": "markdown",
   "metadata": {}
  },
  {
   "cell_type": "code",
   "execution_count": 49,
   "metadata": {},
   "outputs": [],
   "source": [
    "stoplist = stopwords.words('spanish')\n",
    "stoplist += ['.','?','-','«', '»', ',', '(', ')', ':', ';'] # No quita todas las comas\n",
    "stemmer = SnowballStemmer('spanish')\n",
    "index = {}"
   ]
  },
  {
   "source": [
    "### Read files, Tokenize, Stem and Add to index"
   ],
   "cell_type": "markdown",
   "metadata": {}
  },
  {
   "cell_type": "code",
   "execution_count": 50,
   "metadata": {},
   "outputs": [],
   "source": [
    "for i in range (1,7):\n",
    "    with open(\"docs/libro{}.txt\".format(i)) as file:\n",
    "        text = \"\"\n",
    "        lines = file.readlines()\n",
    "        for line in lines:\n",
    "            text += line.lower().strip()\n",
    "\n",
    "        # Tokenize\n",
    "        words = nltk.word_tokenize(text)\n",
    "\n",
    "        # Filter\n",
    "        for token in words:\n",
    "            if token in stoplist:\n",
    "                words.remove(token)\n",
    "        \n",
    "        # Stem\n",
    "        for j in range (len(words)):\n",
    "            words[j] = stemmer.stem(words[j])\n",
    "        \n",
    "        # Add to index\n",
    "        for token in words:\n",
    "            if token in index.keys():\n",
    "                index[token].add(i)\n",
    "            else:\n",
    "                index[token] = set([i])"
   ]
  },
  {
   "source": [
    "## ...\n",
    "Get the 500 most frequent terms\n",
    "\n",
    "Sort by document frequency"
   ],
   "cell_type": "markdown",
   "metadata": {}
  },
  {
   "cell_type": "code",
   "execution_count": 51,
   "metadata": {},
   "outputs": [],
   "source": [
    "sortedIndex = {key : val for key, val in sorted(index.items(), key = lambda elem : len(elem[1]), reverse=True)}\n",
    "mostFrequent = {}\n",
    "count = 0\n",
    "\n",
    "for key, val in sortedIndex.items():\n",
    "    mostFrequent[key] = val\n",
    "    count += 1\n",
    "    if (count == 500):\n",
    "        break"
   ]
  },
  {
   "source": [
    "### Sort by key"
   ],
   "cell_type": "markdown",
   "metadata": {}
  },
  {
   "cell_type": "code",
   "execution_count": 52,
   "metadata": {},
   "outputs": [],
   "source": [
    "invertedIndex = {key: val for key, val in sorted(mostFrequent.items(), key = lambda elem: elem[0])}"
   ]
  },
  {
   "source": [
    "### Write to file"
   ],
   "cell_type": "markdown",
   "metadata": {}
  },
  {
   "cell_type": "code",
   "execution_count": 53,
   "metadata": {},
   "outputs": [],
   "source": [
    "with open(\"invertedIndex.txt\", 'w') as file:\n",
    "    for key, value in invertedIndex.items():\n",
    "        line = key\n",
    "        line += ':'\n",
    "        for i in value:\n",
    "            line += str(i)\n",
    "            line += ','\n",
    "        line = line[0:len(line)-1] # Trim last ,\n",
    "        line += '\\n'\n",
    "        file.writelines(line)"
   ]
  },
  {
   "source": [
    "# Queries"
   ],
   "cell_type": "markdown",
   "metadata": {}
  },
  {
   "source": [
    " Assign file"
   ],
   "cell_type": "markdown",
   "metadata": {}
  },
  {
   "cell_type": "code",
   "execution_count": 54,
   "metadata": {},
   "outputs": [],
   "source": [
    "indexFile = \"invertedIndex.txt\""
   ]
  },
  {
   "source": [
    "### Parse Function"
   ],
   "cell_type": "markdown",
   "metadata": {}
  },
  {
   "cell_type": "code",
   "execution_count": 55,
   "metadata": {},
   "outputs": [],
   "source": [
    "def parseLine(line):\n",
    "    word = \"\"\n",
    "    docs = []\n",
    "    i = 0\n",
    "    while(i < len(line) and line[i] != ':'):\n",
    "        word += line[i]\n",
    "        i += 1\n",
    "    i += 1\n",
    "    temp = \"\"\n",
    "    while(i < len(line) and line[i] != '\\n'):\n",
    "        if (line[i] == ','):\n",
    "            docs.append(int(temp))\n",
    "            temp = \"\"\n",
    "        else:\n",
    "            temp += line[i]\n",
    "        i += 1\n",
    "    docs.append(int(temp))\n",
    "    return (word, docs)"
   ]
  },
  {
   "source": [
    "### Read Index Function"
   ],
   "cell_type": "markdown",
   "metadata": {}
  },
  {
   "cell_type": "code",
   "execution_count": 56,
   "metadata": {},
   "outputs": [],
   "source": [
    "def readIndex(index = indexFile):\n",
    "    invertedIndex = {}\n",
    "    with open( index ) as file:\n",
    "        for line in file:\n",
    "            item = parseLine(line.strip())\n",
    "            invertedIndex[item[0]] = item[1]\n",
    "\n",
    "    for key, value in invertedIndex.items():\n",
    "        print(key, ':', str(value))"
   ]
  },
  {
   "cell_type": "code",
   "execution_count": 57,
   "metadata": {},
   "outputs": [
    {
     "output_type": "stream",
     "name": "stdout",
     "text": [
      ", : [1, 2, 3, 4, 5, 6]\n111âº : [1]\na : [2, 3, 5, 6]\nabismo.apen : [2]\nacab : [1, 4, 5, 6]\nacabã³ : [1]\naccidental : [1]\nacebed : [2]\nacerc : [2]\nacompaã± : [1, 2, 5, 6]\nacompaã±arã­ : [2]\nacontec : [2, 3]\nacud : [1, 5, 6]\nacudirã­ : [2]\nacudiã³ : [1]\nadel : [1, 5]\nadentr : [1]\nagu : [2]\nal : [1, 2, 3, 4, 5, 6]\nalcanz : [2]\nalde : [1]\nalert : [1, 4, 5]\nallã­ : [1, 2, 5, 6]\nambos : [1, 5, 6]\namig : [1, 2, 3]\namo : [2, 4, 6]\namon : [1, 2]\nanduin : [1, 2, 5]\nanill : [1, 2, 4, 6]\nanillo.d : [2]\naniquil : [2]\nante : [2]\nantes : [1]\nantigu : [2]\naparec : [2, 4]\napareciã³ : [2]\naparent : [3, 4]\napartã³ : [2]\naprovech : [3, 6]\naragorn : [1, 2, 3, 5, 6]\narmas : [1]\narnor : [1]\narrastr : [1]\narrastrã³ : [2]\narrebat : [1]\narrebatã¡rsel : [1]\narroj : [2, 3, 6]\nascend : [4, 6]\nasent : [2]\nasfaloth : [1]\nasã­ : [1, 3, 4, 5, 6]\natac : [1, 2, 4, 5, 6]\nataqu : [3, 5]\natrap : [1, 3, 4]\natraves : [2, 4]\naunqu : [4, 6]\nayud : [1, 3, 5, 6]\naã±os : [1]\nbaj : [4, 5]\nbalin : [2]\nbalrog : [2]\nbarc : [2, 5, 6]\nbatall : [3, 5, 6]\nbien : [1]\nbilb : [1, 6]\nbolsã³n : [1]\nbombadil : [1]\nborom : [2, 3]\nbosqu : [1, 2, 3, 5, 6]\nbre : [1]\nbruin : [1]\nbruj : [4, 5]\nbusc : [1, 2, 4, 5, 6]\nbã¡rbol : [3, 6]\ncaball : [1, 5]\ncamin : [1, 2, 4, 5, 6]\ncamp : [1, 3, 5]\ncanciã³n : [1]\ncant : [1]\ncaptur : [1, 2, 4]\ncaradhr : [2]\ncas : [1, 3, 5]\ncaã­ : [2]\nceleborn : [2]\ncelebraciã³n : [1, 2]\ncerc : [1, 2, 5]\ncercan : [2]\ncerr : [1, 6]\ncirith : [4, 6]\nciud : [2, 3, 5]\nclim : [2]\ncobij : [2]\ncogiã³ : [2]\ncom : [2, 4, 6]\ncomarc : [1, 6]\ncombat : [1]\ncomenz : [2]\ncomienz : [1, 4, 5, 6]\ncomit : [3, 6]\ncompaã±ã­ : [4, 5, 6]\ncomun : [2]\ncon : [5, 6]\nconcili : [2]\ncondujeron : [2]\nconsej : [2, 4, 5]\nconsig : [3, 5]\nconsigu : [2, 4]\ncontinu : [4, 6]\ncontinãº : [4, 6]\ncontã³ : [2]\nconvenc : [2]\nconvenciã©ndol : [1]\nconvoc : [3, 5]\ncorrient : [1]\ncreã³ : [2]\ncriatur : [1, 4, 6]\ncruz : [2]\ncual : [3, 6]\ncuant : [2]\ncuatr : [3, 6]\ncuent : [1, 2, 3, 5, 6]\ncuerp : [4, 5, 6]\ncumpleaã± : [1]\ncuraciã³n : [2]\ncurs : [2]\ncustodi : [3, 4]\ncã¡mar : [2]\nda : [5, 6]\ndar : [2]\nde : [1, 2, 4]\ndeb : [1, 2, 4, 5, 6]\ndebã­ : [2, 5]\ndecid : [1, 2, 3, 4, 5]\ndecidirã­ : [1, 2]\ndecisiã³n : [1]\ndefend : [1, 3]\ndefens : [2, 3]\ndej : [1, 3, 4, 6]\ndemã¡s : [2]\ndentr : [2, 3]\nderrot : [2, 3, 6]\ndes : [2]\ndesapareciã³ : [1]\ndesastr : [1]\ndescans : [2]\ndescubiert : [1, 4]\ndescubr : [3, 4]\ndese : [1]\ndespertã³ : [2, 6]\ndespuã©s : [1, 2, 6]\ndestin : [1, 6]\ndestru : [2, 3]\ndestruyer : [2]\ndieron : [2]\ndirig : [3, 5, 6]\ndirigã­ : [5, 6]\ndiscurs : [1]\ndiscusiã³n : [1]\ndistint : [2, 6]\ndond : [1, 2, 3, 4, 5, 6]\ndos : [1, 3, 6]\ndud : [1]\ndurant : [2, 5, 6]\ndã : [2]\ndã¡ndol : [1]\ndã­a : [1, 3, 5]\ndã­as : [1, 2, 4, 5, 6]\nedor : [3, 5, 6]\nejã©rcit : [3, 5]\nel : [1, 2, 3, 4, 5, 6]\nelfo : [1, 2]\nelfos : [2, 6]\nello : [3, 6]\nellos : [5, 6]\nelrond : [1, 2, 6]\nembarg : [1, 2, 4, 6]\nemprend : [4, 6]\nen : [1, 2, 3, 6]\nenan : [2]\nencargã³ : [2]\nencerrã³ : [2]\nencontr : [1, 2, 5, 6]\nencontrã³ : [1, 2]\nencuentr : [1, 3, 4, 5, 6]\nenemig : [2, 4, 5, 6]\nenfrentã³ : [2]\nenseã±ã³ : [1]\nentonc : [1, 2, 3, 5, 6]\nentra : [4, 5]\nentrar : [4, 5]\neregion : [2]\nescap : [1, 2, 3, 4, 6]\nescond : [2]\nescuch : [2]\nesper : [5, 6]\nesquiv : [2]\nesta : [1, 3]\nestarã­ : [2]\neste : [1, 3, 4, 6]\nevit : [1]\nfaram : [4, 5, 6]\nfiest : [1]\nfin : [1, 3, 6]\nfinal : [3, 4]\nform : [2]\nfrod : [1, 2, 3, 4, 5, 6]\nfue : [2]\nfueg : [2, 4]\nfuer : [2]\nfuerz : [3, 5]\ngal : [2, 3, 5]\ngaladriel : [2, 5, 6]\ngam : [1]\ngamyi : [1]\ngandalf : [1, 2, 3, 5, 6]\ngeb : [2]\ngimli : [2, 3, 5]\ngladi : [1]\nglorfindel : [1]\ngollum : [1, 4, 6]\ngondor : [2, 3, 5, 6]\ngraci : [1, 4, 5]\ngran : [1, 5]\ngraved : [1]\ngrup : [4, 5]\nguard : [1, 3]\nguardiã¡n : [2]\nhab : [1, 5, 6]\nhabã­ : [1, 2, 4, 5, 6]\nhac : [1, 3, 4, 5, 6]\nhaci : [1, 2, 3, 4, 5, 6]\nhald : [2]\nhech : [2, 4, 5]\nhen : [2]\nhereder : [2]\nherenci : [1]\nherman : [2, 5, 6]\nhij : [5, 6]\nhir : [1]\nhobbit : [1, 2, 3, 4]\nhobbits : [1, 2, 3, 4, 6]\nhombre-sauc : [1]\nhuir : [2, 4]\ninconscient : [4, 6]\ninform : [1, 3, 5]\ninformaciã³n : [1]\ninformã³ : [2, 6]\ninici : [5, 6]\niniciã³ : [2]\nintenciã³n : [3, 5]\nintentã³ : [2]\ninvit : [2]\nirse : [1]\nisengard : [2, 3]\nisildur : [1, 5]\nithili : [4, 6]\njardiner : [1]\njunt : [1, 2, 5, 6]\njust : [4, 5]\nkhaz : [2]\nkrak : [2]\nl : [1, 2, 5, 6]\nla : [1, 2, 3, 4, 5, 6]\nlag : [2]\nlas : [1, 2, 3, 4, 5, 6]\nle : [1, 2, 5, 6]\nlegol : [2, 3, 5]\nles : [1, 2, 4, 5, 6]\nliber : [3, 5]\nlibr : [2, 3, 4, 5, 6]\nllam : [1, 2, 5, 6]\nlleg : [1, 2, 3, 4, 5, 6]\nllev : [1, 2, 3, 4, 5]\nlo : [2, 3, 4, 5, 6]\nlob : [2]\nlogr : [1, 2, 5, 6]\nlogrã³ : [2]\nlos : [1, 2, 3, 4, 5, 6]\nlothlã³ri : [2]\nluch : [4, 5, 6]\nlueg : [1, 2, 4]\nlug : [5, 6]\nlã¡tig : [2]\nm : [2]\nmag : [1, 2, 3, 6]\nmal : [2]\nman : [3, 6]\nmarch : [4, 6]\nmazarbul : [2]\nmedi : [2, 3, 6]\nmen : [3, 4]\nmerry : [1, 2, 3, 5, 6]\nmes : [2, 6]\nmiembr : [2, 6]\nmientr : [2, 3, 4, 5, 6]\nmin : [2, 3, 4, 5, 6]\nmisiã³n : [4, 5]\nmism : [1]\nmisteri : [1]\nmoment : [3, 5, 6]\nmonstru : [2]\nmont : [1, 6]\nmontarac : [4, 5]\nmontaã± : [2, 6]\nmordor : [2, 4, 5]\nmori : [2, 4]\nmotiv : [1, 4]\nmuer : [3, 5]\nmuert : [2, 4, 5, 6]\nmã¡gic : [1]\nmã¡s : [2, 3, 5, 6]\nnarr : [2]\nnazgã : [1, 2, 5, 6]\nneg : [1, 5, 6]\nnegat : [2]\nnegr : [2, 4, 5, 6]\nniebl : [1]\nno : [1, 2, 3, 5]\nnob : [1]\nnoch : [1]\nnotici : [1, 3]\nnubl : [2]\nnuev : [1, 2, 6]\nnumer : [2]\nobjet : [3, 4]\noblig : [2, 3, 4, 5]\nobra : [1]\nocasion : [1]\nocult : [4, 5]\nocurr : [2, 4, 5]\noest : [2, 3, 6]\nofreciã³ : [2]\norcos : [2, 3, 4, 5, 6]\norden : [1]\norill : [2]\norodruin : [2, 6]\northanc : [3, 6]\noscur : [1]\notros : [1, 6]\noã­rse : [2]\npar : [1, 2, 3, 5]\nparec : [2]\npart : [1, 3, 4, 5, 6]\nparth : [2, 3, 5]\npartiã³ : [1, 2]\npas : [1, 2, 4, 5, 6]\npaz : [1]\nped : [2]\npeligr : [2, 3]\npequeã± : [1]\nper : [1, 2, 3, 4, 6]\nperd : [1]\npersegu : [1, 3]\npersig : [1]\npersonaj : [1]\npes : [2, 6]\npies : [2, 6]\npippin : [1, 2, 3, 5, 6]\npisadorâ : [1]\nplan : [1, 4]\npoc : [2]\npod : [1]\npoder : [2]\npon : [1, 2, 3, 4, 6]\npor : [3, 5]\npos : [1]\nposibl : [2]\nprad : [2]\nprepar : [3, 4]\npres : [2]\npresenci : [4, 5]\npretext : [1]\nprimer : [3, 4, 6]\nprincipal : [1]\nproduc : [3, 6]\nproduct : [1]\npronunci : [1]\nprã­ncip : [2]\npud : [1]\npuebl : [2]\npuent : [2]\npuert : [2, 3, 4, 5, 6]\npuest : [3, 5]\npus : [1, 2, 6]\npã³ney : [1]\nque : [1, 2, 3, 4, 5, 6]\nquebr : [1]\nqued : [1, 3, 5]\nquerã­ : [2]\nqui : [1, 3, 5]\nrechaz : [2]\nrecib : [3, 5, 6]\nreflexion : [2]\nregres : [1, 5, 6]\nrein : [3, 4]\nrepresent : [2, 3]\nrescat : [3, 4, 5, 6]\nrest : [1, 2, 4]\nretuv : [2]\nreun : [1]\nrevel : [3, 5]\nrevelã³ : [2]\nrey : [1, 3, 4, 5, 6]\nrivendel : [1, 2, 6]\nroh : [2, 3, 5, 6]\nrohirrim : [3, 5]\nroj : [5, 6]\nropaj : [5, 6]\nrã­o : [1, 2, 5]\nsabi : [1]\nsabã­ : [1]\nsal : [1, 2, 4, 5]\nsalv : [1, 3]\nsam : [2, 3, 4, 6]\nsamsagaz : [1]\nsarn : [2]\nsarum : [2, 3, 6]\nsauron : [1, 2, 3, 5, 6]\nse : [1, 2, 3, 4, 5, 6]\nseguã­ : [2, 6]\nsender : [5, 6]\nsenescalã­ : [2]\nseparaciã³n : [3, 4]\nser : [2]\nservidor : [1]\nseã±al : [3, 5]\nseã±or : [1, 2, 3]\nsi : [2]\nsid : [1, 2, 5, 6]\nsiend : [1, 4, 6]\nsigu : [2]\nsiguient : [1]\nsiguiã³ : [2]\nsin : [1, 2, 3, 4, 6]\nsobrin : [1, 5]\nsol : [2, 4, 5, 6]\nson : [1, 6]\nsorprend : [1, 5]\nsu : [1, 2, 3, 4, 5, 6]\nsus : [2, 3, 5, 6]\nsã : [1]\ntambiã©n : [1, 2, 4, 5]\ntambiã©n.tr : [1]\ntambor : [2]\ntard : [2, 3, 6]\ntem : [2]\ntenã­ : [1]\ntermin : [1, 5, 6]\nthã©od : [3, 5, 6]\ntiemp : [2]\ntiend : [1]\ntierr : [2, 6]\ntirith : [2, 3, 4, 5, 6]\ntod : [2, 3, 5, 6]\ntom : [1, 3, 4, 5, 6]\ntoque.casi : [1]\ntorr : [3, 4]\ntraiciã³n : [2, 4]\ntramp : [1]\ntranquil : [1]\ntras : [1, 2, 3, 4, 5, 6]\ntrat : [1, 3, 5]\ntratarã­ : [2]\ntratã³ : [2]\ntraz : [1]\ntres : [2, 3]\ntrop : [4, 5, 6]\ntumb : [2]\ntumulari : [1]\ntãºmul : [1]\nucorn : [1, 3]\nun : [1, 2, 3, 4, 5, 6]\nuna : [1, 2, 3, 4, 5, 6]\nunas : [1]\nungol : [4, 6]\nunos : [2, 4]\nusad : [2, 4]\nva : [3, 6]\nvad : [1, 5]\nvari : [3, 4, 5]\nveint : [1]\nvez : [1, 3, 5, 6]\nviaj : [1, 2, 4, 5, 6]\nviaje.un : [1]\nviej : [1, 6]\nvio : [2, 5]\nvisit : [5, 6]\nviv : [1, 3]\nvuelt : [2, 5]\nvuelv : [4, 5]\ny : [1, 2, 3, 4, 5, 6]\nya : [1, 2, 5]\nâ : [1, 3, 4]\nã©l : [1, 2, 3, 4, 5, 6]\nã©lfic : [2]\nã©ste : [2, 6]\nãºltim : [1, 3, 6]\nãšnic : [1, 4]\nã‰om : [3, 5, 6]\nã‰owyn : [5, 6]\n"
     ]
    }
   ],
   "source": [
    "readIndex()"
   ]
  }
 ]
}