{
 "metadata": {
  "language_info": {
   "codemirror_mode": {
    "name": "ipython",
    "version": 3
   },
   "file_extension": ".py",
   "mimetype": "text/x-python",
   "name": "python",
   "nbconvert_exporter": "python",
   "pygments_lexer": "ipython3",
   "version": "3.8.5"
  },
  "orig_nbformat": 2,
  "kernelspec": {
   "name": "python385jvsc74a57bd0919eb0904b72c37e8d6c7e3b2f7b6f162c89cafcc297fba09b2d10c79c52f5eb",
   "display_name": "Python 3.8.5 64-bit ('base': conda)"
  }
 },
 "nbformat": 4,
 "nbformat_minor": 2,
 "cells": [
  {
   "source": [
    "# Laboratorio 6.2"
   ],
   "cell_type": "markdown",
   "metadata": {}
  },
  {
   "cell_type": "code",
   "execution_count": 42,
   "metadata": {},
   "outputs": [],
   "source": [
    "import nltk\n",
    "#nltk.download('punkt')\n",
    "from nltk.corpus import stopwords\n",
    "#from nlkt.corpus.reader import lin\n",
    "from nltk.stem import SnowballStemmer\n",
    "from nltk.util import pr"
   ]
  },
  {
   "source": [
    "## Initialize"
   ],
   "cell_type": "markdown",
   "metadata": {}
  },
  {
   "cell_type": "code",
   "execution_count": 43,
   "metadata": {},
   "outputs": [],
   "source": [
    "stoplist = stopwords.words('spanish')\n",
    "stoplist += ['.','?','-','«', '»', ',', '(', ')', ':', ';'] # No quita todas las comas\n",
    "stemmer = SnowballStemmer('spanish')\n",
    "index = {}"
   ]
  },
  {
   "source": [
    "### Read files, Tokenize, Stem and Add to index"
   ],
   "cell_type": "markdown",
   "metadata": {}
  },
  {
   "cell_type": "code",
   "execution_count": 44,
   "metadata": {},
   "outputs": [],
   "source": [
    "for i in range (1,7):\n",
    "    with open(\"docs/libro{}.txt\".format(i), encoding='utf-8') as file:\n",
    "        text = \"\"\n",
    "        lines = file.readlines()\n",
    "        for line in lines:\n",
    "            text += line.lower().strip()\n",
    "\n",
    "        # Tokenize\n",
    "        words = nltk.word_tokenize(text)\n",
    "\n",
    "        # Filter\n",
    "        for token in words:\n",
    "            if token in stoplist:\n",
    "                words.remove(token)\n",
    "        \n",
    "        # Stem\n",
    "        for j in range (len(words)):\n",
    "            words[j] = stemmer.stem(words[j])\n",
    "        \n",
    "        # Add to index\n",
    "        for token in words:\n",
    "            if token in index.keys():\n",
    "                index[token].add(i)\n",
    "            else:\n",
    "                index[token] = set([i])"
   ]
  },
  {
   "source": [
    "## ...\n",
    "Get the 500 most frequent terms\n",
    "\n",
    "Sort by document frequency"
   ],
   "cell_type": "markdown",
   "metadata": {}
  },
  {
   "cell_type": "code",
   "execution_count": 45,
   "metadata": {},
   "outputs": [],
   "source": [
    "sortedIndex = {key : val for key, val in sorted(index.items(), key = lambda elem : len(elem[1]), reverse=True)}\n",
    "mostFrequent = {}\n",
    "count = 0\n",
    "\n",
    "for key, val in sortedIndex.items():\n",
    "    mostFrequent[key] = val\n",
    "    count += 1\n",
    "    if (count == 500):\n",
    "        break"
   ]
  },
  {
   "source": [
    "### Sort by key"
   ],
   "cell_type": "markdown",
   "metadata": {}
  },
  {
   "cell_type": "code",
   "execution_count": 46,
   "metadata": {},
   "outputs": [],
   "source": [
    "invertedIndex = {key: val for key, val in sorted(mostFrequent.items(), key = lambda elem: elem[0])}"
   ]
  },
  {
   "source": [
    "### Write to file"
   ],
   "cell_type": "markdown",
   "metadata": {}
  },
  {
   "cell_type": "code",
   "execution_count": 47,
   "metadata": {},
   "outputs": [],
   "source": [
    "with open(\"invertedIndex.txt\", 'w', encoding='utf-8') as file:\n",
    "    for key, value in invertedIndex.items():\n",
    "        line = key\n",
    "        line += ':'\n",
    "        for i in value:\n",
    "            line += str(i)\n",
    "            line += ','\n",
    "        line = line[0:len(line)-1] # Trim last ,\n",
    "        line += '\\n'\n",
    "        file.writelines(line)"
   ]
  },
  {
   "source": [
    "# Queries"
   ],
   "cell_type": "markdown",
   "metadata": {}
  },
  {
   "source": [
    " Assign file"
   ],
   "cell_type": "markdown",
   "metadata": {}
  },
  {
   "cell_type": "code",
   "execution_count": 48,
   "metadata": {},
   "outputs": [],
   "source": [
    "indexFile = \"invertedIndex.txt\""
   ]
  },
  {
   "source": [
    "### Parse Function"
   ],
   "cell_type": "markdown",
   "metadata": {}
  },
  {
   "cell_type": "code",
   "execution_count": 49,
   "metadata": {},
   "outputs": [],
   "source": [
    "def parseLine(line):\n",
    "    word = \"\"\n",
    "    docs = []\n",
    "    i = 0\n",
    "    while(i < len(line) and line[i] != ':'):\n",
    "        word += line[i]\n",
    "        i += 1\n",
    "    i += 1\n",
    "    temp = \"\"\n",
    "    while(i < len(line) and line[i] != '\\n'):\n",
    "        if (line[i] == ','):\n",
    "            docs.append(int(temp))\n",
    "            temp = \"\"\n",
    "        else:\n",
    "            temp += line[i]\n",
    "        i += 1\n",
    "    docs.append(int(temp))\n",
    "    return (word, docs)"
   ]
  },
  {
   "source": [
    "### Read Index Function"
   ],
   "cell_type": "markdown",
   "metadata": {}
  },
  {
   "cell_type": "code",
   "execution_count": 50,
   "metadata": {},
   "outputs": [],
   "source": [
    "invertedIndex2 = {}"
   ]
  },
  {
   "cell_type": "code",
   "execution_count": 54,
   "metadata": {},
   "outputs": [],
   "source": [
    "def readIndex(index = indexFile):\n",
    "    with open( index ) as file:\n",
    "        for line in file:\n",
    "            item = parseLine(line.strip())\n",
    "            invertedIndex2[item[0]] = item[1]\n",
    "\n",
    "    for key, value in invertedIndex.items():\n",
    "        print(key, ':', str(value))"
   ]
  },
  {
   "cell_type": "code",
   "execution_count": 55,
   "metadata": {},
   "outputs": [
    {
     "output_type": "stream",
     "name": "stdout",
     "text": [
      ", : {1, 2, 3, 4, 5, 6}\n111º : {1}\na : {2, 3, 5, 6}\nabismo.apen : {2}\nacab : {1, 4, 5, 6}\naccidental : {1}\nacebed : {2}\nacerc : {2}\nacompañ : {1, 2, 5, 6}\nacontec : {2, 3}\nacud : {1, 2, 5, 6}\nadel : {1, 5}\nadentr : {1}\nagu : {2}\nal : {1, 2, 3, 4, 5, 6}\nalcanz : {2}\nalde : {1}\nalert : {1, 4, 5}\nalli : {1, 2, 5, 6}\nambos : {1, 5, 6}\namig : {1, 2, 3}\namo : {2, 4, 6}\namon : {1, 2}\nanduin : {1, 2, 5}\nanill : {1, 2, 4, 6}\nanillo.d : {2}\naniquil : {2}\nante : {2, 4}\nantes : {1}\nantigu : {2}\naparec : {2, 4}\naparent : {3, 4}\napart : {2}\napres : {3}\napresur : {3, 5}\naprovech : {3, 6}\naragorn : {1, 2, 3, 5, 6}\narmas : {1}\narnor : {1}\narrastr : {1, 2}\narrebat : {1}\narroj : {2, 3, 6}\nascend : {4, 6}\nasent : {2}\nasfaloth : {1}\nasi : {1, 3, 4, 5, 6}\natac : {1, 2, 4, 5, 6}\nataqu : {3, 5}\natrap : {1, 3, 4}\natraves : {2, 4}\naunqu : {4, 6}\nayud : {1, 3, 5, 6}\naños : {1}\nbaj : {4, 5}\nbalin : {2}\nbalrog : {2}\nbarbol : {3, 6}\nbarc : {2, 5, 6}\nbatall : {3, 5, 6}\nbien : {1}\nbilb : {1, 6}\nbolson : {1}\nbombadil : {1}\nborom : {2, 3}\nbosqu : {1, 2, 3, 5, 6}\nbre : {1}\nbruin : {1}\nbruj : {4, 5}\nbusc : {1, 2, 4, 5, 6}\ncaball : {1, 5}\ncai : {2}\ncam : {2}\ncamin : {1, 2, 4, 5, 6}\ncamp : {1, 3, 5}\ncancion : {1}\ncant : {1}\ncapitan : {4, 5}\ncaptur : {1, 2, 4}\ncaradhr : {2}\ncas : {1, 3, 5, 6}\ncazador : {3}\nceleborn : {2}\ncelebr : {1, 2}\ncerc : {1, 2, 5}\ncercan : {2}\ncerr : {1, 6}\ncirith : {4, 6}\nciud : {2, 3, 5}\nclim : {2}\ncobij : {2}\ncog : {2}\ncom : {1, 2, 4, 6}\ncomarc : {1, 6}\ncombat : {1}\ncomenz : {2, 5}\ncomienz : {1, 4, 5, 6}\ncomit : {3, 6}\ncompañ : {4, 5, 6}\ncomun : {2}\ncon : {5, 6}\nconcili : {2}\ncondujeron : {2}\nconoc : {5, 6}\nconsej : {2, 4, 5}\nconsig : {3, 5}\nconsigu : {2, 4}\ncont : {2}\ncontinu : {4, 6}\nconvenc : {1, 2}\nconvoc : {3, 5}\ncorrient : {1}\ncre : {2}\ncriatur : {1, 4, 6}\ncruz : {2}\ncual : {3, 6}\ncuant : {2}\ncuatr : {3, 6}\ncuent : {1, 2, 3, 5, 6}\ncuerp : {4, 5, 6}\ncumpleañ : {1}\ncuracion : {2}\ncurs : {2}\ncustodi : {3, 4}\nda : {5, 6}\ndandol : {1}\ndar : {2}\nde : {1, 2, 4}\ndeb : {1, 2, 4, 5, 6}\ndecid : {1, 2, 3, 4, 5}\ndecision : {1}\ndefend : {1, 3}\ndefens : {2, 3}\ndej : {1, 3, 4, 6}\ndemas : {2}\ndentr : {2, 3}\nderrot : {2, 3, 6}\ndes : {2}\ndesaparec : {1, 4}\ndesastr : {1}\ndescans : {2}\ndescubiert : {1, 4}\ndescubr : {3, 4}\ndese : {1}\ndespert : {2, 6}\ndespues : {1, 2, 6}\ndestin : {1, 6}\ndestru : {2, 3}\ndestruyer : {2}\ndia : {1, 3, 5}\ndias : {1, 2, 4, 5, 6}\ndieron : {2}\ndio : {2}\ndirig : {3, 5, 6}\ndiscurs : {1}\ndiscusion : {1}\ndistint : {2, 6}\ndivid : {3}\ndond : {1, 2, 3, 4, 5, 6}\ndos : {1, 3, 6}\ndud : {1}\ndurant : {2, 5, 6}\ndûm : {2}\nedor : {3, 5, 6}\nejercit : {3, 5}\nel : {1, 2, 3, 4, 5, 6}\nelfic : {2}\nelfo : {1, 2}\nelfos : {2, 6}\nello : {3, 6}\nellos : {5, 6}\nelrond : {1, 2, 6}\nembarg : {1, 2, 4, 6}\nemprend : {4, 6}\nen : {1, 2, 3, 6}\nenan : {2}\nencarg : {2}\nencerr : {2, 3}\nencontr : {1, 2, 5, 6}\nencuentr : {1, 3, 4, 5, 6}\nenemig : {2, 4, 5, 6}\nenfrent : {2, 5}\nenseñ : {1}\nentonc : {1, 2, 3, 5, 6}\nentra : {4, 5}\nentrar : {4, 5}\neom : {3, 5, 6}\neor : {3}\neowyn : {5, 6}\neregion : {2}\nescap : {1, 2, 3, 4, 6}\nescond : {2}\nescuch : {2}\nese : {3}\nesper : {5, 6}\nesquiv : {2}\nesta : {1, 3, 4}\nestad : {4, 5}\neste : {1, 2, 3, 4, 6}\nestos : {4, 5}\nevit : {1}\nfangorn : {3}\nfaram : {4, 5, 6}\nfiest : {1}\nfin : {1, 3, 6}\nfinal : {3, 4}\nform : {2}\nfrod : {1, 2, 3, 4, 5, 6}\nfue : {2}\nfueg : {2, 4}\nfuer : {2}\nfuerz : {3, 5}\ngal : {2, 3, 5}\ngaladriel : {2, 5, 6}\ngam : {1}\ngamyi : {1}\ngandalf : {1, 2, 3, 5, 6}\ngeb : {2}\ngimli : {2, 3, 5}\ngladi : {1}\nglorfindel : {1}\ngollum : {1, 4, 6}\ngondor : {2, 3, 5, 6}\ngraci : {1, 4, 5}\ngran : {1, 5}\ngraved : {1}\ngrim : {3, 6}\ngrup : {4, 5}\nguard : {1, 3}\nguardian : {2}\nhab : {1, 2, 4, 5, 6}\nhabr : {3}\nhac : {1, 3, 4, 5, 6}\nhaci : {1, 2, 3, 4, 5, 6}\nhald : {2}\nhech : {2, 4, 5}\nhen : {2}\nher : {5, 6}\nhereder : {2}\nherenci : {1}\nherman : {2, 5, 6}\nhij : {5, 6}\nhir : {1}\nhobbit : {1, 2, 3, 4}\nhobbits : {1, 2, 3, 4, 6}\nhobbits. : {3}\nhombre-sauc : {1}\nhuid : {3}\nhuir : {2, 4}\ninconscient : {4, 6}\ninform : {1, 2, 3, 5, 6}\ninic : {2}\ninici : {5, 6}\nintencion : {3, 5}\nintent : {2, 5}\ninvit : {2}\nirse : {1}\nisengard : {2, 3}\nisildur : {1, 5}\nithili : {4, 6}\njardiner : {1}\njunt : {1, 2, 5, 6}\njust : {4, 5}\nkhaz : {2}\nkrak : {2}\nla : {1, 2, 3, 4, 5, 6}\nlad : {3}\nlag : {2}\nlas : {1, 2, 3, 4, 5, 6}\nlatig : {2}\nle : {1, 2, 5, 6}\nlegol : {2, 3, 5}\nles : {1, 2, 4, 5, 6}\nliber : {3, 5}\nlibr : {2, 3, 4, 5, 6}\nlind : {3}\nllam : {1, 2, 5, 6}\nlleg : {1, 2, 3, 4, 5, 6}\nllev : {1, 2, 3, 4, 5}\nlo : {2, 3, 4, 5, 6}\nlob : {2}\nlogr : {1, 2, 5, 6}\nlos : {1, 2, 3, 4, 5, 6}\nlothlori : {2}\nluch : {4, 5, 6}\nlueg : {1, 2, 4}\nlug : {5, 6}\nmag : {1, 2, 3, 6}\nmagic : {1}\nmal : {2}\nman : {3, 6}\nmarch : {4, 6}\nmariscal : {3}\nmas : {2, 5, 6}\nmazarbul : {2}\nmedi : {2, 3, 6}\nmen : {3, 4}\nmerry : {1, 2, 3, 5, 6}\nmes : {2, 6}\nmiembr : {2, 6}\nmientr : {2, 3, 4, 5, 6}\nmin : {2, 3, 4, 5, 6}\nmision : {4, 5}\nmism : {1}\nmisteri : {1}\nmoment : {3, 5, 6}\nmonstru : {2}\nmont : {1, 5, 6}\nmontarac : {4, 5}\nmontañ : {2, 6}\nmordor : {2, 4, 5}\nmori : {2, 4}\nmotiv : {1, 4}\nmuer : {3, 5}\nmuert : {2, 4, 5, 6}\nnarr : {2}\nnarracion : {3}\nnazgûl : {1, 2, 5, 6}\nneg : {1, 5, 6}\nnegat : {2}\nnegr : {2, 4, 5, 6}\nniebl : {1}\nno : {1, 2, 3, 5}\nnob : {1}\nnoch : {1}\nnotici : {1, 3}\nnubl : {2}\nnuev : {1, 2, 6}\nnumer : {2}\nobjet : {3, 4}\noblig : {2, 3, 4, 5}\nobra : {1}\nocasion : {1}\nocult : {4, 5}\nocurr : {2, 4, 5}\noest : {2, 3, 6}\nofrec : {2, 5}\noirs : {2}\norcos : {2, 3, 4, 5, 6}\norden : {1, 2, 6}\norill : {2}\norodruin : {2, 6}\northanc : {3, 6}\noscur : {1, 3}\notros : {1, 6}\npar : {1, 2, 3, 5}\nparec : {2}\npart : {1, 2, 3, 4, 5, 6}\nparth : {2, 3, 5}\npas : {1, 2, 4, 5, 6}\npaz : {1}\nped : {2}\npeligr : {2, 3}\npequeñ : {1}\nper : {1, 2, 3, 4, 6}\nperd : {1}\nperec : {3}\nperipeci : {3}\npersecu : {3}\npersegu : {1, 3}\npersig : {1}\npersonaj : {1}\npes : {2, 6}\npies : {2, 6}\npippin : {1, 2, 3, 5, 6}\npisador : {1}\nplan : {1, 4}\npoc : {2}\npod : {1}\npoder : {2}\npon : {1, 2, 3, 4, 6}\nponey : {1}\npor : {3, 5}\npos : {1}\nposibl : {2}\nprad : {2}\nprepar : {3, 4}\npres : {2}\npresenci : {4, 5}\npretext : {1}\nprimer : {3, 4, 6}\nprincip : {2}\nprincipal : {1}\nproduc : {3, 6}\nproduct : {1}\npronunci : {1}\nproteg : {2, 3}\npud : {1}\npuebl : {2}\npuent : {2}\npuert : {2, 3, 4, 5, 6}\npuest : {3, 5}\npus : {1, 2, 6}\nque : {1, 2, 3, 4, 5, 6}\nquebr : {1}\nqued : {1, 3, 5}\nquer : {2}\nqui : {1, 3, 5}\nquit : {2, 3}\nrechaz : {2}\nrecib : {3, 5, 6}\nreencontr : {3, 6}\nreflexion : {2}\nregres : {1, 2, 5, 6}\nrein : {3, 4}\nrepresent : {2, 3}\nrescat : {3, 4, 5, 6}\nrest : {1, 2, 4}\nretuv : {2}\nreun : {1, 5}\nrevel : {2, 3, 5}\nrey : {1, 3, 4, 5, 6}\nrio : {1, 2, 5}\nrivendel : {1, 2, 6}\nroh : {2, 3, 5, 6}\nrohirrim : {3, 5}\nroj : {5, 6}\nropaj : {5, 6}\nsab : {1, 3}\nsabi : {1}\nsal : {1, 2, 4, 5}\nsalv : {1, 3}\nsam : {2, 3, 4, 6}\nsamsagaz : {1}\nsarn : {2}\nsarum : {2, 3, 6}\nsauron : {1, 2, 3, 5, 6}\nse : {1, 2, 3, 4, 5, 6}\nsegu : {2, 3, 6}\nsender : {5, 6}\nsenescal : {2, 5}\nsepar : {3, 4}\nser : {2, 5}\nservidor : {1}\nseñal : {3, 5}\nseñor : {1, 2, 3}\nsi : {2, 4}\nsid : {1, 2, 5, 6}\nsiend : {1, 4, 6}\nsigu : {2, 4}\nsiguient : {1}\nsin : {1, 2, 3, 4, 6}\nsirvient : {3}\nsobrin : {1, 5}\nsol : {2, 4, 5, 6}\nson : {1, 6}\nsorprend : {1, 5}\nsu : {1, 2, 3, 4, 5, 6}\nsus : {2, 3, 5, 6}\nsûl : {1}\ntambien : {1}\ntambien.tr : {1}\ntambor : {2}\ntard : {2, 3, 6}\ntem : {2}\ntermin : {1, 5, 6}\ntheod : {3, 5, 6}\ntiemp : {2}\ntiend : {1}\ntierr : {2, 6}\ntirith : {2, 3, 4, 5, 6}\ntod : {2, 3, 5, 6}\ntom : {1, 3, 4, 5, 6}\ntoque.casi : {1}\ntorr : {3, 4}\ntraicion : {2, 4}\ntramp : {1}\ntranquil : {1}\ntras : {1, 2, 3, 4, 5, 6}\ntrat : {1, 2, 3, 5}\ntraz : {1}\ntres : {2, 3}\ntrop : {4, 5, 6}\ntumb : {2}\ntumul : {1}\ntumulari : {1}\nucorn : {1, 3}\nultim : {1, 3, 6}\nun : {1, 2, 3, 4, 5, 6}\nuna : {1, 2, 3, 4, 5, 6}\nunas : {1}\nungol : {4, 6}\nunic : {1, 4}\nunos : {2, 4}\nuruk-hai : {3}\nusad : {2, 4}\nva : {3, 6}\nvad : {1, 5}\nvari : {3, 4, 5}\nveint : {1}\nvez : {1, 3, 5, 6}\nviaj : {1, 2, 4, 5, 6}\nviaje.un : {1}\nviej : {1, 6}\nvio : {2, 5}\nvisit : {5, 6}\nviv : {1, 3}\nvuelt : {2, 5}\nvuelv : {4, 5}\ny : {1, 2, 3, 4, 5, 6}\nya : {1, 2, 5}\n"
     ]
    }
   ],
   "source": [
    "readIndex()"
   ]
  },
  {
   "cell_type": "code",
   "execution_count": 78,
   "metadata": {},
   "outputs": [],
   "source": [
    "def indexAnd(w1, w2):\n",
    "    result1 = invertedIndex2[w1]\n",
    "    result2 = invertedIndex2[w2]\n",
    "    answer = []\n",
    "    i = 0\n",
    "    j = 0\n",
    "    while (i < len(result1) and j < len(result2)):\n",
    "        if(result1[i] == result2[j]):\n",
    "            answer.append(result1[i])\n",
    "            i += 1\n",
    "            j += 1\n",
    "        elif result1[i] < result2[j]:\n",
    "            i += 1\n",
    "        else:\n",
    "            j += 1\n",
    "    return answer"
   ]
  },
  {
   "cell_type": "code",
   "execution_count": 62,
   "metadata": {},
   "outputs": [
    {
     "output_type": "execute_result",
     "data": {
      "text/plain": [
       "[4, 6]"
      ]
     },
     "metadata": {},
     "execution_count": 62
    }
   ],
   "source": [
    "indexAnd(\"una\", \"ungol\")"
   ]
  },
  {
   "cell_type": "code",
   "execution_count": 79,
   "metadata": {},
   "outputs": [],
   "source": [
    "def indexOr(w1, w2):\n",
    "    result1 = invertedIndex2[w1]\n",
    "    result2 = invertedIndex2[w2]\n",
    "    answer = result1 + result2\n",
    "    answer = set(answer)\n",
    "    return answer"
   ]
  },
  {
   "cell_type": "code",
   "execution_count": 66,
   "metadata": {},
   "outputs": [
    {
     "output_type": "execute_result",
     "data": {
      "text/plain": [
       "{1, 2, 3, 4, 5, 6}"
      ]
     },
     "metadata": {},
     "execution_count": 66
    }
   ],
   "source": [
    "indexOr(\"una\",\"un\")"
   ]
  },
  {
   "cell_type": "code",
   "execution_count": 82,
   "metadata": {},
   "outputs": [],
   "source": [
    "def indexAndNot(w1, w2):\n",
    "    result1 = invertedIndex2[w1]\n",
    "    result2 = invertedIndex2[w2]\n",
    "    answer = []\n",
    "    i = 0\n",
    "    j = 0\n",
    "    while (i < len(result1) and j < len(result2)):\n",
    "        if(result1[i] < result2[j]):\n",
    "            answer.append(result1[i])\n",
    "            i += 1\n",
    "        elif(result1[i] == result2[j]):\n",
    "            i += 1\n",
    "            j += 1\n",
    "        elif(result1[i] > result2[j]):\n",
    "            j += 1\n",
    "    return answer"
   ]
  },
  {
   "cell_type": "code",
   "execution_count": 83,
   "metadata": {},
   "outputs": [
    {
     "output_type": "execute_result",
     "data": {
      "text/plain": [
       "[]"
      ]
     },
     "metadata": {},
     "execution_count": 83
    }
   ],
   "source": [
    "indexAndNot(\"vari\",\"viv\")"
   ]
  },
  {
   "cell_type": "code",
   "execution_count": null,
   "metadata": {},
   "outputs": [],
   "source": []
  }
 ]
}